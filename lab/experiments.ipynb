{
 "cells": [
  {
   "cell_type": "markdown",
   "metadata": {},
   "source": [
    "## Invoice PDF Stamping Template"
   ]
  },
  {
   "cell_type": "markdown",
   "metadata": {},
   "source": [
    "### pdf data extraction"
   ]
  },
  {
   "cell_type": "code",
   "execution_count": null,
   "metadata": {},
   "outputs": [
    {
     "name": "stdout",
     "output_type": "stream",
     "text": [
      "{\n",
      "    \"deviceID\": 19250,\n",
      "    \"receiptType\": \"FISCALINVOICE\",\n",
      "    \"receiptCurrency\": \"USD\",\n",
      "    \"receiptCounter\": 2,\n",
      "    \"receiptGlobalNo\": 2,\n",
      "    \"invoiceNo\": \"FUR57\",\n",
      "    \"receiptDate\": \"2024-12-11T12:15:45\",\n",
      "    \"receiptLines\": [\n",
      "        {\n",
      "            \"item_name\": \"Coke Can\",\n",
      "            \"tax_percent\": 15.0,\n",
      "            \"quantity\": 2,\n",
      "            \"unit_price\": 1.5\n",
      "        },\n",
      "        {\n",
      "            \"item_name\": \"Fanta 500Ml\",\n",
      "            \"tax_percent\": 0.0,\n",
      "            \"quantity\": 3,\n",
      "            \"unit_price\": 2.0\n",
      "        },\n",
      "        {\n",
      "            \"item_name\": \"Sprite\",\n",
      "            \"tax_percent\": 15.0,\n",
      "            \"quantity\": 2,\n",
      "            \"unit_price\": 1.0\n",
      "        }\n",
      "    ],\n",
      "    \"receiptPayments\": [\n",
      "        {\n",
      "            \"moneyTypeCode\": 1,\n",
      "            \"paymentAmount\": 11.0\n",
      "        }\n",
      "    ]\n",
      "}\n"
     ]
    }
   ],
   "source": [
    "import pdfplumber\n",
    "import re\n",
    "from datetime import datetime\n",
    "import json\n",
    "\n",
    "pdf_path = \"../Foresango USD Sample Invoice.pdf\"\n",
    "with pdfplumber.open(pdf_path) as pdf:\n",
    "    text = \"\\n\".join(page.extract_text() or '' for page in pdf.pages)\n",
    "    print(text)\n",
    "\n",
    "def extract_data(pdf_text):\n",
    "    # Identify document type\n",
    "    document_type = None\n",
    "    if re.search(r'(?i)(Fiscal Tax Invoice)', pdf_text):\n",
    "        document_type = \"FISCALINVOICE\"\n",
    "    elif re.search(r'(?i)(Credit Note)', pdf_text):\n",
    "        document_type = \"CREDITNOTE\"\n",
    "    elif re.search(r'(?i)(Debit Note)', pdf_text):\n",
    "        document_type = \"DEBITNOTE\"\n",
    "\n",
    "    # Extract Document No.\n",
    "    document_no = re.search(r'Document No\\.\\s*(\\S+)', pdf_text)\n",
    "    document_no = document_no.group(1) if document_no else None\n",
    "\n",
    "    # Extract Date\n",
    "    date_match = re.search(r'Date\\s+(\\d{2}/\\d{2}/\\d{4})', pdf_text)\n",
    "    formatted_date = None\n",
    "    if date_match:\n",
    "        receipt_date = date_match.group(1)  # Extract the captured group\n",
    "        # Combine extracted date with current time\n",
    "        extracted_date = datetime.strptime(receipt_date, '%d/%m/%Y')\n",
    "        current_time = datetime.now().time()\n",
    "        combined_datetime = datetime.combine(extracted_date.date(), current_time)\n",
    "        formatted_date = combined_datetime.strftime('%Y-%m-%dT%H:%M:%S')\n",
    "\n",
    "    # Extract currency\n",
    "    currency = None\n",
    "    if re.search(r'\\bUSD\\b', pdf_text):\n",
    "        currency = \"USD\"\n",
    "    elif re.search(r'\\bZWG\\b', pdf_text):\n",
    "        currency = \"ZWG\"\n",
    "\n",
    "    # Split the text based on item lines (after the headers, which usually appear after 'Excl VAT')\n",
    "    item_lines = re.split(r'\\n(?=\\w)', pdf_text)  # Split at newlines with words, avoiding header lines\n",
    "    \n",
    "    # Extract item details from each line\n",
    "    items = []\n",
    "    total_payment = 0  # Initialize total payment\n",
    "    for line in item_lines:\n",
    "        # Clean the line by removing unwanted text\n",
    "        line = line.strip()\n",
    "        # Skip the header line with column names and any other irrelevant lines\n",
    "        if re.match(r'^(Description|Qty|Unit Price|Excl Total VAT)', line):\n",
    "            continue\n",
    "\n",
    "        # Match individual item lines and capture the necessary details (description, qty, unit price, VAT)\n",
    "        match = re.match(r'([a-zA-Z\\s0-9]+)\\s+(\\d+)\\s+(\\d+\\.\\d{2})\\s+(\\d+\\.\\d{2})\\s+(\\d+%)', line)\n",
    "        if match:\n",
    "            # Convert VAT percentage to float by removing % and dividing by 100\n",
    "            vat_percent = float(match[5].replace('%', ''))\n",
    "            # Round unit price to 2 decimal places\n",
    "            unit_price = round(float(match[3]), 2)\n",
    "            quantity = int(match[2])\n",
    "\n",
    "            # Add the item to the list\n",
    "            items.append({\n",
    "                \"item_name\": match[1].strip(),  # Now correctly captures the description\n",
    "                \"tax_percent\": round(vat_percent, 2),  # VAT percentage as a float\n",
    "                \"quantity\": quantity,  # Quantity is now correctly extracted as an integer\n",
    "                \"unit_price\": unit_price,  # Unit Price rounded to 2 decimal places\n",
    "            })\n",
    "\n",
    "            # Calculate total payment (quantity * unit price)\n",
    "            total_payment += quantity * unit_price\n",
    "\n",
    "    return {\n",
    "        \"deviceID\": 19250,\n",
    "        \"receiptType\": document_type,\n",
    "        \"receiptCurrency\": currency,\n",
    "        \"receiptCounter\": 2,  # Placeholder for dynamic value\n",
    "        \"receiptGlobalNo\": 2,  # Placeholder for dynamic value\n",
    "        \"invoiceNo\": document_no,\n",
    "        \"receiptDate\": datetime.now().strftime('%Y-%m-%dT%H:%M:%S'),\n",
    "        \"receiptLines\": items,\n",
    "        \"receiptPayments\": [{\"moneyTypeCode\": 1, \"paymentAmount\": round(total_payment, 2)}]  # Include total payment\n",
    "    }\n",
    "\n",
    "\n",
    "# Call the function and print the result\n",
    "extracted_invoice = extract_data(text)\n",
    "\n",
    "print(json.dumps(extracted_invoice, indent=4))\n"
   ]
  },
  {
   "cell_type": "markdown",
   "metadata": {},
   "source": [
    "### Fiscalising the Invoice"
   ]
  },
  {
   "cell_type": "code",
   "execution_count": 9,
   "metadata": {},
   "outputs": [
    {
     "name": "stdout",
     "output_type": "stream",
     "text": [
      "{\n",
      "    \"qrCode\": \"https://fdmstest.zimra.co.zw/00000192501112202400000000025f9fd32175f1a5e0\"\n",
      "}\n"
     ]
    }
   ],
   "source": [
    "import requests\n",
    "\n",
    "\n",
    "url = \"https://nexus-backend.up.railway.app/submitReceipt\"\n",
    "body = {\n",
    "    \"deviceID\": \"19250\",\n",
    "    \"tinNo\": \"2000168681\",\n",
    "    \"receipt\": extracted_invoice\n",
    "}\n",
    "\n",
    "response = requests.post(url, json=body)\n",
    "\n",
    "print(json.dumps(response.json(), indent=4))"
   ]
  },
  {
   "cell_type": "markdown",
   "metadata": {},
   "source": [
    "### Stamping the QR Code onto the Invoice"
   ]
  },
  {
   "cell_type": "code",
   "execution_count": 12,
   "metadata": {},
   "outputs": [
    {
     "name": "stdout",
     "output_type": "stream",
     "text": [
      "QR code added to PDF at the bottom-right corner\n"
     ]
    }
   ],
   "source": [
    "import qrcode\n",
    "from reportlab.pdfgen import canvas\n",
    "from reportlab.lib.pagesizes import letter\n",
    "from PyPDF2 import PdfReader, PdfWriter\n",
    "\n",
    "# Generate QR code image\n",
    "qrurl = response.json()['qrCode']\n",
    "qr = qrcode.QRCode(\n",
    "    version=1,\n",
    "    error_correction=qrcode.constants.ERROR_CORRECT_L,\n",
    "    box_size=10,\n",
    "    border=4,\n",
    ")\n",
    "qr.add_data(qrurl)\n",
    "qr.make(fit=True)\n",
    "\n",
    "qr_img = qr.make_image(fill_color=\"black\", back_color=\"white\")\n",
    "qr_img.save(\"qr.png\")\n",
    "\n",
    "# Create a temporary PDF with the QR code\n",
    "qr_pdf_path = \"qr_code.pdf\"\n",
    "c = canvas.Canvas(qr_pdf_path, pagesize=letter)\n",
    "\n",
    "# Get the width and height of the page\n",
    "width, height = letter\n",
    "\n",
    "# Set the QR code size (adjust if necessary)\n",
    "qr_size = 100  # Adjust the size of the QR code\n",
    "\n",
    "# Position QR code at the bottom-right corner\n",
    "x_position = width - qr_size - 20  # 20 pixels padding from the right edge\n",
    "y_position = 20  # 20 pixels padding from the bottom edge\n",
    "\n",
    "# Draw the QR code on the page\n",
    "c.drawImage(\"qr.png\", x_position, y_position, width=qr_size, height=qr_size)\n",
    "c.save()\n",
    "\n",
    "# Now, merge the QR code PDF with the original PDF\n",
    "pdf_path = \"../Foresango USD Sample Invoice.pdf\"\n",
    "output_path = \"../Foresango USD Sample Invoice with QR.pdf\"\n",
    "\n",
    "# Read the original PDF and QR code PDF\n",
    "reader = PdfReader(pdf_path)\n",
    "qr_reader = PdfReader(qr_pdf_path)\n",
    "\n",
    "# Create a writer object to save the output PDF\n",
    "writer = PdfWriter()\n",
    "\n",
    "# Get the first page of the original PDF\n",
    "page = reader.pages[0]\n",
    "\n",
    "# Merge the QR code page onto the original page\n",
    "page.merge_page(qr_reader.pages[0])\n",
    "\n",
    "# Add the merged page to the writer\n",
    "writer.add_page(page)\n",
    "\n",
    "# Write the output PDF\n",
    "with open(output_path, \"wb\") as output_file:\n",
    "    writer.write(output_file)\n",
    "\n",
    "print(\"QR code added to PDF at the bottom-right corner\")\n"
   ]
  },
  {
   "cell_type": "code",
   "execution_count": null,
   "metadata": {},
   "outputs": [],
   "source": []
  },
  {
   "cell_type": "code",
   "execution_count": null,
   "metadata": {},
   "outputs": [],
   "source": []
  }
 ],
 "metadata": {
  "kernelspec": {
   "display_name": "nexus-daemon",
   "language": "python",
   "name": "python3"
  },
  "language_info": {
   "codemirror_mode": {
    "name": "ipython",
    "version": 3
   },
   "file_extension": ".py",
   "mimetype": "text/x-python",
   "name": "python",
   "nbconvert_exporter": "python",
   "pygments_lexer": "ipython3",
   "version": "3.13.0"
  }
 },
 "nbformat": 4,
 "nbformat_minor": 2
}
