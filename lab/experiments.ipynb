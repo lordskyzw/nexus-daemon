{
 "cells": [
  {
   "cell_type": "code",
   "execution_count": 17,
   "metadata": {},
   "outputs": [
    {
     "name": "stdout",
     "output_type": "stream",
     "text": [
      "FORESANGO INVESTMENTS (Pvt) Ltd\n",
      "3247 CMED Complex\n",
      "Cnr Rekayi Tangwena Ave\n",
      "Workington,Harare\n",
      "Fiscal Tax Invoice\n",
      "Date 17/10/2024\n",
      "Document No. FUR57\n",
      "VAT No. 220089190\n",
      "TIN No. 2001365880\n",
      "CLIENT DETAILS\n",
      "Registered Name Lazio\n",
      "T/A Mashwede Investments\n",
      "Address, Street 8Ferguson,Greendale\n",
      "City, Province Harare\n",
      "Contact No. 0772754660\n",
      "Customer E-mail Lazio@gmail.co.zw\n",
      "Customer TIN. 2000181693\n",
      "Customer VAT. 220572879\n",
      "Description Qty Unit Price Excl Total VAT Excl VAT\n",
      "Coke Can 2 1.50 3.00 15%\n",
      "Fanta 500Ml 3 2.00 6.00 0%\n",
      "Sprite 2 1.00 2.00 15%\n",
      "Banking Details Subtotal Excl VAT USD 11.00\n",
      "Account Name: Foresango Investments\n",
      "VAT Total USD 0.75\n",
      "Bank: CBZ Bank\n",
      "Acc No: 26107970011\n",
      "Bank Code: 011 Total Incl VAT USD 11.75\n",
      "Branch: Kwame Nkrumah\n"
     ]
    }
   ],
   "source": [
    "import pdfplumber\n",
    "\n",
    "\n",
    "pdf_path = \"../Foresango USD Sample Invoice.pdf\"\n",
    "with pdfplumber.open(pdf_path) as pdf:\n",
    "    text = \"\\n\".join(page.extract_text() or '' for page in pdf.pages)\n",
    "    print(text)"
   ]
  },
  {
   "cell_type": "code",
   "execution_count": null,
   "metadata": {},
   "outputs": [
    {
     "name": "stdout",
     "output_type": "stream",
     "text": [
      "{'deviceID': 19250, 'receiptType': 'FISCALINVOICE', 'receiptCurrency': 'USD', 'receiptCounter': 2, 'receiptGlobalNo': 2, 'invoiceNo': 'FUR57', 'receiptDate': '2024-10-17T11:47:21', 'receiptLines': [{'Description': 'Coke Can', 'Qty': 2, 'Unit Price': 1.5, 'VAT (%)': '15%'}, {'Description': 'Fanta 500Ml', 'Qty': 3, 'Unit Price': 2.0, 'VAT (%)': '0%'}, {'Description': 'Sprite', 'Qty': 2, 'Unit Price': 1.0, 'VAT (%)': '15%'}]}\n"
     ]
    }
   ],
   "source": [
    "import re\n",
    "from datetime import datetime\n",
    "\n",
    "def extract_data(pdf_text):\n",
    "    # Identify document type\n",
    "    document_type = None\n",
    "    if re.search(r'(?i)(Fiscal Tax Invoice)', pdf_text):\n",
    "        document_type = \"FISCALINVOICE\"\n",
    "    elif re.search(r'(?i)(Credit Note)', pdf_text):\n",
    "        document_type = \"CREDITNOTE\"\n",
    "    elif re.search(r'(?i)(Debit Note)', pdf_text):\n",
    "        document_type = \"DEBITNOTE\"\n",
    "\n",
    "    # Extract Document No.\n",
    "    document_no = re.search(r'Document No\\.\\s*(\\S+)', pdf_text)\n",
    "    document_no = document_no.group(1) if document_no else None\n",
    "\n",
    "    # Extract Date\n",
    "    date_match = re.search(r'Date\\s+(\\d{2}/\\d{2}/\\d{4})', pdf_text)\n",
    "    formatted_date = None\n",
    "    if date_match:\n",
    "        receipt_date = date_match.group(1)  # Extract the captured group\n",
    "        # Combine extracted date with current time\n",
    "        extracted_date = datetime.strptime(receipt_date, '%d/%m/%Y')\n",
    "        current_time = datetime.now().time()\n",
    "        combined_datetime = datetime.combine(extracted_date.date(), current_time)\n",
    "        formatted_date = combined_datetime.strftime('%Y-%m-%dT%H:%M:%S')\n",
    "\n",
    "    # Extract currency\n",
    "    currency = None\n",
    "    if re.search(r'\\bUSD\\b', pdf_text):\n",
    "        currency = \"USD\"\n",
    "    elif re.search(r'\\bZWG\\b', pdf_text):\n",
    "        currency = \"ZWG\"\n",
    "\n",
    "    # Split the text based on item lines (after the headers, which usually appear after 'Excl VAT')\n",
    "    item_lines = re.split(r'\\n(?=\\w)', pdf_text)  # Split at newlines with words, avoiding header lines\n",
    "    \n",
    "    # Extract item details from each line\n",
    "    items = []\n",
    "    for line in item_lines:\n",
    "        # Clean the line by removing unwanted text\n",
    "        line = line.strip()\n",
    "        # Skip the header line with column names and any other irrelevant lines\n",
    "        if re.match(r'^(Description|Qty|Unit Price|Excl Total VAT)', line):\n",
    "            continue\n",
    "\n",
    "        # Match individual item lines and capture the necessary details (description, qty, unit price, VAT)\n",
    "        match = re.match(r'([a-zA-Z\\s0-9]+)\\s+(\\d+)\\s+(\\d+\\.\\d{2})\\s+(\\d+\\.\\d{2})\\s+(\\d+%)', line)\n",
    "        if match:\n",
    "            items.append({\n",
    "                \"Description\": match[1].strip(),  # Now correctly captures the description\n",
    "                \"Qty\": int(match[2]),  # Quantity is now correctly extracted as an integer\n",
    "                \"Unit Price\": float(match[3]),  # Unit Price as a float\n",
    "                \"VAT (%)\": match[5]  # VAT percentage\n",
    "            })\n",
    "\n",
    "    return {\n",
    "        \"deviceID\": 19250,\n",
    "        \"receiptType\": document_type,\n",
    "        \"receiptCurrency\": currency,\n",
    "        \"receiptCounter\": 2,  # Placeholder for dynamic value\n",
    "        \"receiptGlobalNo\": 2,  # Placeholder for dynamic value\n",
    "        \"invoiceNo\": document_no,\n",
    "        \"receiptDate\": formatted_date,\n",
    "        \"receiptLines\": items,\n",
    "        #\"receiptPayments\": [{\"moneyTypeCode\": 1, \"paymentAmount\": total_payment}]\n",
    "    }\n",
    "\n",
    "\n",
    "\n",
    "# Call the function and print the result\n",
    "print(extract_data(text))\n"
   ]
  }
 ],
 "metadata": {
  "kernelspec": {
   "display_name": "nexus-daemon",
   "language": "python",
   "name": "python3"
  },
  "language_info": {
   "codemirror_mode": {
    "name": "ipython",
    "version": 3
   },
   "file_extension": ".py",
   "mimetype": "text/x-python",
   "name": "python",
   "nbconvert_exporter": "python",
   "pygments_lexer": "ipython3",
   "version": "3.13.0"
  }
 },
 "nbformat": 4,
 "nbformat_minor": 2
}
